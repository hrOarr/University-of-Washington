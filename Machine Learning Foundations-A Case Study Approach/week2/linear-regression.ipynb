{
 "cells": [
  {
   "cell_type": "code",
   "execution_count": 70,
   "metadata": {},
   "outputs": [
    {
     "name": "stdout",
     "output_type": "stream",
     "text": [
      "(100, 2)\n"
     ]
    },
    {
     "data": {
      "text/html": [
       "<div>\n",
       "<style scoped>\n",
       "    .dataframe tbody tr th:only-of-type {\n",
       "        vertical-align: middle;\n",
       "    }\n",
       "\n",
       "    .dataframe tbody tr th {\n",
       "        vertical-align: top;\n",
       "    }\n",
       "\n",
       "    .dataframe thead th {\n",
       "        text-align: right;\n",
       "    }\n",
       "</style>\n",
       "<table border=\"1\" class=\"dataframe\">\n",
       "  <thead>\n",
       "    <tr style=\"text-align: right;\">\n",
       "      <th></th>\n",
       "      <th>size</th>\n",
       "      <th>price</th>\n",
       "    </tr>\n",
       "  </thead>\n",
       "  <tbody>\n",
       "    <tr>\n",
       "      <th>0</th>\n",
       "      <td>53.426804</td>\n",
       "      <td>68.777596</td>\n",
       "    </tr>\n",
       "    <tr>\n",
       "      <th>1</th>\n",
       "      <td>61.530358</td>\n",
       "      <td>62.562382</td>\n",
       "    </tr>\n",
       "    <tr>\n",
       "      <th>2</th>\n",
       "      <td>47.475640</td>\n",
       "      <td>71.546632</td>\n",
       "    </tr>\n",
       "    <tr>\n",
       "      <th>3</th>\n",
       "      <td>59.813208</td>\n",
       "      <td>87.230925</td>\n",
       "    </tr>\n",
       "    <tr>\n",
       "      <th>4</th>\n",
       "      <td>55.142188</td>\n",
       "      <td>78.211518</td>\n",
       "    </tr>\n",
       "    <tr>\n",
       "      <th>...</th>\n",
       "      <td>...</td>\n",
       "      <td>...</td>\n",
       "    </tr>\n",
       "    <tr>\n",
       "      <th>95</th>\n",
       "      <td>49.239765</td>\n",
       "      <td>72.111832</td>\n",
       "    </tr>\n",
       "    <tr>\n",
       "      <th>96</th>\n",
       "      <td>50.039576</td>\n",
       "      <td>85.232007</td>\n",
       "    </tr>\n",
       "    <tr>\n",
       "      <th>97</th>\n",
       "      <td>48.149859</td>\n",
       "      <td>66.224958</td>\n",
       "    </tr>\n",
       "    <tr>\n",
       "      <th>98</th>\n",
       "      <td>25.128485</td>\n",
       "      <td>53.454394</td>\n",
       "    </tr>\n",
       "    <tr>\n",
       "      <th>99</th>\n",
       "      <td>32.502345</td>\n",
       "      <td>31.707006</td>\n",
       "    </tr>\n",
       "  </tbody>\n",
       "</table>\n",
       "<p>100 rows × 2 columns</p>\n",
       "</div>"
      ],
      "text/plain": [
       "         size      price\n",
       "0   53.426804  68.777596\n",
       "1   61.530358  62.562382\n",
       "2   47.475640  71.546632\n",
       "3   59.813208  87.230925\n",
       "4   55.142188  78.211518\n",
       "..        ...        ...\n",
       "95  49.239765  72.111832\n",
       "96  50.039576  85.232007\n",
       "97  48.149859  66.224958\n",
       "98  25.128485  53.454394\n",
       "99  32.502345  31.707006\n",
       "\n",
       "[100 rows x 2 columns]"
      ]
     },
     "execution_count": 70,
     "metadata": {},
     "output_type": "execute_result"
    }
   ],
   "source": [
    "%matplotlib inline\n",
    "import numpy as np\n",
    "import pandas as pd\n",
    "import matplotlib.pyplot as plt\n",
    "\n",
    "# reading data\n",
    "data = pd.read_csv('dataset.csv')\n",
    "print(data.shape)\n",
    "data"
   ]
  },
  {
   "cell_type": "code",
   "execution_count": 71,
   "metadata": {},
   "outputs": [
    {
     "data": {
      "image/png": "[encoded data removed]",
      "text/plain": [
       "<Figure size 720x480 with 1 Axes>"
      ]
     },
     "metadata": {
      "needs_background": "light"
     },
     "output_type": "display_data"
    }
   ],
   "source": [
    "# collecting X and Y\n",
    "X = data['size'].values\n",
    "Y = data['price'].values\n",
    "n = len(X)\n",
    "\n",
    "# plot the dataset\n",
    "plt.figure(figsize=(9,6),dpi=80)\n",
    "plt.scatter(X,Y,c='#ef5423', label='Scatter plot')\n",
    "plt.xlabel('Size')\n",
    "plt.ylabel('Price')\n",
    "plt.title('Size vs Price')\n",
    "plt.legend()\n",
    "plt.show()"
   ]
  },
  {
   "cell_type": "code",
   "execution_count": 72,
   "metadata": {},
   "outputs": [],
   "source": [
    "# initiale the parameters\n",
    "learning_rate = 0.0001\n",
    "m = 0\n",
    "c = 0\n",
    "iterations = 20"
   ]
  },
  {
   "cell_type": "code",
   "execution_count": 73,
   "metadata": {},
   "outputs": [],
   "source": [
    "def compute_cost( m, c, X, Y ):\n",
    "    cost = 0\n",
    "    # compute sum of squared errors\n",
    "    for i in range(n):\n",
    "        cost += ( Y[i] - ( m*X[i] + c ) )**2\n",
    "    return cost/n"
   ]
  },
  {
   "cell_type": "code",
   "execution_count": 74,
   "metadata": {},
   "outputs": [],
   "source": [
    "def gradient_descent( X, Y, init_m, init_c, learning_rate, iterations ):\n",
    "    cost_graph = []\n",
    "    m = init_m\n",
    "    c = init_c\n",
    "    # for every iteration, optimize m and c and compute its cost\n",
    "    for i in range(iterations):\n",
    "        cost_graph.append(compute_cost(m,c,X,Y))\n",
    "        m, c = step_gradient(X,Y,m,c,learning_rate)\n",
    "    return [m,c,cost_graph]\n",
    "\n",
    "# step gradient function for each iteration\n",
    "def step_gradient( X, Y, curr_m, curr_c, learning_rate ):\n",
    "    Dm = 0\n",
    "    Dc = 0\n",
    "    # calculate gradient\n",
    "    for i in range(n):\n",
    "        Dm += ( X[i] * ( Y[i] - ( curr_m*X[i] + curr_c ) ) )\n",
    "        Dc += ( Y[i] - (curr_m*X[i] + curr_c ) )\n",
    "    Dm *= (-2/n)\n",
    "    Dc *= (-2/n)\n",
    "    updated_m = curr_m - learning_rate*Dm\n",
    "    updated_c = curr_c - learning_rate*Dc\n",
    "    return updated_m,updated_c"
   ]
  },
  {
   "cell_type": "code",
   "execution_count": 75,
   "metadata": {},
   "outputs": [
    {
     "name": "stdout",
     "output_type": "stream",
     "text": [
      "Optimized m :  1.4788956622798282\n",
      "Optimized c :  0.030269517288280406\n",
      "Error with optimized m and c :  112.64994425009661\n"
     ]
    }
   ],
   "source": [
    "# debugging -> print(m,c)\n",
    "m, c, cost_graph = gradient_descent(X,Y,m,c,learning_rate,iterations)\n",
    "\n",
    "\n",
    "print('Optimized m : ',m)\n",
    "print('Optimized c : ',c)\n",
    "print('Error with optimized m and c : ',compute_cost(m,c,X,Y))"
   ]
  },
  {
   "cell_type": "code",
   "execution_count": 76,
   "metadata": {},
   "outputs": [
    {
     "data": {
      "image/png": "[encoded data removed]",
      "text/plain": [
       "<Figure size 720x480 with 1 Axes>"
      ]
     },
     "metadata": {
      "needs_background": "light"
     },
     "output_type": "display_data"
    }
   ],
   "source": [
    "# plotting cost per iterations\n",
    "plt.figure(figsize=(9,6),dpi=80)\n",
    "plt.plot(cost_graph)\n",
    "plt.xlabel('iterations')\n",
    "plt.ylabel('cost')\n",
    "plt.title('cost per iteration')\n",
    "plt.show()"
   ]
  },
  {
   "cell_type": "code",
   "execution_count": 80,
   "metadata": {},
   "outputs": [
    {
     "data": {
      "image/png": "[encoded data removed]",
      "text/plain": [
       "<Figure size 720x480 with 1 Axes>"
      ]
     },
     "metadata": {
      "needs_background": "light"
     },
     "output_type": "display_data"
    }
   ],
   "source": [
    "# plot dataset\n",
    "plt.figure(figsize=(9,6),dpi=80)\n",
    "plt.scatter(X,Y,label='scatter data')\n",
    "# predict y values\n",
    "y = m*X + c\n",
    "# best fit line\n",
    "plt.plot(X,y,c='r',label='Regression line')\n",
    "plt.xlabel('Size')\n",
    "plt.ylabel('Price')\n",
    "plt.title('Best fit line')\n",
    "plt.legend(loc = 'upper left')\n",
    "plt.show()"
   ]
  },
  {
   "cell_type": "code",
   "execution_count": null,
   "metadata": {},
   "outputs": [],
   "source": []
  }
 ],
 "metadata": {
  "kernelspec": {
   "display_name": "Python 2",
   "language": "python",
   "name": "python2"
  },
  "language_info": {
   "codemirror_mode": {
    "name": "ipython",
    "version": 2
   },
   "file_extension": ".py",
   "mimetype": "text/x-python",
   "name": "python",
   "nbconvert_exporter": "python",
   "pygments_lexer": "ipython2",
   "version": "2.7.18"
  }
 },
 "nbformat": 4,
 "nbformat_minor": 4
}
